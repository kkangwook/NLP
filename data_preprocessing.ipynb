{
 "cells": [
  {
   "cell_type": "markdown",
   "id": "39b83814-d655-4306-9c92-d5c01d341eda",
   "metadata": {},
   "source": [
    "# 데이터 전처리"
   ]
  },
  {
   "cell_type": "markdown",
   "id": "61c0614f-d52a-44fe-814c-63677592266b",
   "metadata": {},
   "source": [
    "# 1. 데이터 로드 및 구조 확인\n",
    "- df=pd.read_csv()\n",
    "- df.describe(), df.info(), df.head()"
   ]
  },
  {
   "cell_type": "code",
   "execution_count": 46,
   "id": "880e373b-25b2-4c0c-adf7-f2ce7dc972cc",
   "metadata": {},
   "outputs": [
    {
     "name": "stdout",
     "output_type": "stream",
     "text": [
      "<class 'pandas.core.frame.DataFrame'>\n",
      "Index: 8 entries, 1번 to 8번\n",
      "Data columns (total 9 columns):\n",
      " #   Column  Non-Null Count  Dtype \n",
      "---  ------  --------------  ----- \n",
      " 0   이름      8 non-null      object\n",
      " 1   학교      8 non-null      object\n",
      " 2   키       8 non-null      int64 \n",
      " 3   국어      8 non-null      int64 \n",
      " 4   영어      8 non-null      int64 \n",
      " 5   수학      8 non-null      int64 \n",
      " 6   과학      8 non-null      int64 \n",
      " 7   사회      8 non-null      int64 \n",
      " 8   SW특기    6 non-null      object\n",
      "dtypes: int64(6), object(3)\n",
      "memory usage: 940.0+ bytes\n"
     ]
    }
   ],
   "source": [
    "df.info()     #SW특기의 경우 6개가 non-null, 나머지2개 null/  dtype으로 데이터타입확인"
   ]
  },
  {
   "cell_type": "markdown",
   "id": "312031c1-edac-4fd4-b237-5c0bba008a1d",
   "metadata": {},
   "source": [
    "# 2. 정렬 및 추출\n",
    "- df.sort_index(), df.sort_values(column명)\n",
    "- df.loc이나 df.iloc으로 원하는 부분만->비교연산자(==,>,<,!=)나 isin, contain 등 활용\n",
    "- df.drop이나 df['new']=로 행이나 열 제거or 추가"
   ]
  },
  {
   "cell_type": "markdown",
   "id": "3896cc9a-fa34-492b-abe7-b564e390a099",
   "metadata": {},
   "source": [
    "# 3. 결측치 처리\n",
    "- isnull()이나 isna()사용  -> 둘은 사실상 동일\n",
    "- 1. dropna()로 데이터 자체 제거\n",
    "- 2. fillna()로 ''삽입 or 0삽입 or mean,median 삽입 ->해당 분야의 표준에 맞춤"
   ]
  },
  {
   "cell_type": "code",
   "execution_count": 21,
   "id": "44e73479-4620-4b6b-9420-df0325f32b68",
   "metadata": {},
   "outputs": [
    {
     "name": "stdout",
     "output_type": "stream",
     "text": [
      "2\n",
      "지원번호    0\n",
      "이름      0\n",
      "학교      0\n",
      "키       0\n",
      "국어      0\n",
      "영어      0\n",
      "수학      0\n",
      "과학      0\n",
      "사회      0\n",
      "SW특기    2\n",
      "dtype: int64\n"
     ]
    },
    {
     "data": {
      "text/plain": [
       "2"
      ]
     },
     "execution_count": 21,
     "metadata": {},
     "output_type": "execute_result"
    }
   ],
   "source": [
    "print(df['SW특기'].isnull().sum())   #으로 열별 nan개수\n",
    "print(df.isnull().sum())       #각 컬럼별 nan개수\n",
    "df.isnull().sum().sum()     #두번 sum으로 전체 nan개수세기"
   ]
  },
  {
   "cell_type": "code",
   "execution_count": null,
   "id": "a8b87444-851d-441a-a3e8-2befcb473a1e",
   "metadata": {},
   "outputs": [],
   "source": [
    "df['column']=df['column'].fillna(df['column'].mean())  #nan에 평균채움"
   ]
  },
  {
   "cell_type": "markdown",
   "id": "8103f66a-158e-4b5d-aa57-5fe297d4fa41",
   "metadata": {},
   "source": [
    "### replace도 사용가능"
   ]
  },
  {
   "cell_type": "code",
   "execution_count": null,
   "id": "5fc82fab-8306-4065-8e08-57f7155ff370",
   "metadata": {},
   "outputs": [],
   "source": [
    "# nan이 아닌 ' '와 같은 공백에 값 넣고 싶을 경우\n",
    "df['column']=df['column'].replace({' ':'hi'})"
   ]
  },
  {
   "cell_type": "code",
   "execution_count": null,
   "id": "4c0a0032-bafb-483e-b0b4-33b4725263cd",
   "metadata": {},
   "outputs": [],
   "source": [
    "# nan을 넣기\n",
    "import numpy as np\n",
    "\n",
    "df['column']=df['column'].replace({' ':np.nan})"
   ]
  },
  {
   "cell_type": "markdown",
   "id": "06ad7969-dd88-46ba-a4a8-363ecf3d1515",
   "metadata": {},
   "source": [
    "# 4. 중복값 제거\n",
    "- drop_duplicates"
   ]
  },
  {
   "cell_type": "code",
   "execution_count": 36,
   "id": "5eeb545e-e9af-4463-8488-418245f89b85",
   "metadata": {
    "scrolled": true
   },
   "outputs": [
    {
     "data": {
      "text/html": [
       "<div>\n",
       "<style scoped>\n",
       "    .dataframe tbody tr th:only-of-type {\n",
       "        vertical-align: middle;\n",
       "    }\n",
       "\n",
       "    .dataframe tbody tr th {\n",
       "        vertical-align: top;\n",
       "    }\n",
       "\n",
       "    .dataframe thead th {\n",
       "        text-align: right;\n",
       "    }\n",
       "</style>\n",
       "<table border=\"1\" class=\"dataframe\">\n",
       "  <thead>\n",
       "    <tr style=\"text-align: right;\">\n",
       "      <th></th>\n",
       "      <th>이름</th>\n",
       "      <th>학교</th>\n",
       "      <th>키</th>\n",
       "      <th>국어</th>\n",
       "      <th>영어</th>\n",
       "      <th>수학</th>\n",
       "      <th>과학</th>\n",
       "      <th>사회</th>\n",
       "      <th>SW특기</th>\n",
       "    </tr>\n",
       "    <tr>\n",
       "      <th>지원번호</th>\n",
       "      <th></th>\n",
       "      <th></th>\n",
       "      <th></th>\n",
       "      <th></th>\n",
       "      <th></th>\n",
       "      <th></th>\n",
       "      <th></th>\n",
       "      <th></th>\n",
       "      <th></th>\n",
       "    </tr>\n",
       "  </thead>\n",
       "  <tbody>\n",
       "    <tr>\n",
       "      <th>1번</th>\n",
       "      <td>채치수</td>\n",
       "      <td>북산고</td>\n",
       "      <td>197</td>\n",
       "      <td>90</td>\n",
       "      <td>85</td>\n",
       "      <td>100</td>\n",
       "      <td>95</td>\n",
       "      <td>85</td>\n",
       "      <td>Python</td>\n",
       "    </tr>\n",
       "    <tr>\n",
       "      <th>2번</th>\n",
       "      <td>정대만</td>\n",
       "      <td>북산고</td>\n",
       "      <td>184</td>\n",
       "      <td>40</td>\n",
       "      <td>35</td>\n",
       "      <td>50</td>\n",
       "      <td>55</td>\n",
       "      <td>25</td>\n",
       "      <td>Java</td>\n",
       "    </tr>\n",
       "    <tr>\n",
       "      <th>3번</th>\n",
       "      <td>송태섭</td>\n",
       "      <td>북산고</td>\n",
       "      <td>168</td>\n",
       "      <td>80</td>\n",
       "      <td>75</td>\n",
       "      <td>70</td>\n",
       "      <td>80</td>\n",
       "      <td>75</td>\n",
       "      <td>Javascript</td>\n",
       "    </tr>\n",
       "    <tr>\n",
       "      <th>4번</th>\n",
       "      <td>서태웅</td>\n",
       "      <td>북산고</td>\n",
       "      <td>187</td>\n",
       "      <td>40</td>\n",
       "      <td>60</td>\n",
       "      <td>70</td>\n",
       "      <td>75</td>\n",
       "      <td>80</td>\n",
       "      <td>NaN</td>\n",
       "    </tr>\n",
       "    <tr>\n",
       "      <th>5번</th>\n",
       "      <td>강백호</td>\n",
       "      <td>북산고</td>\n",
       "      <td>188</td>\n",
       "      <td>15</td>\n",
       "      <td>20</td>\n",
       "      <td>10</td>\n",
       "      <td>35</td>\n",
       "      <td>10</td>\n",
       "      <td>NaN</td>\n",
       "    </tr>\n",
       "    <tr>\n",
       "      <th>6번</th>\n",
       "      <td>변덕규</td>\n",
       "      <td>능남고</td>\n",
       "      <td>202</td>\n",
       "      <td>80</td>\n",
       "      <td>100</td>\n",
       "      <td>95</td>\n",
       "      <td>85</td>\n",
       "      <td>80</td>\n",
       "      <td>C</td>\n",
       "    </tr>\n",
       "    <tr>\n",
       "      <th>7번</th>\n",
       "      <td>황태산</td>\n",
       "      <td>능남고</td>\n",
       "      <td>188</td>\n",
       "      <td>55</td>\n",
       "      <td>65</td>\n",
       "      <td>45</td>\n",
       "      <td>40</td>\n",
       "      <td>35</td>\n",
       "      <td>PYTHON</td>\n",
       "    </tr>\n",
       "    <tr>\n",
       "      <th>8번</th>\n",
       "      <td>윤대협</td>\n",
       "      <td>능남고</td>\n",
       "      <td>190</td>\n",
       "      <td>100</td>\n",
       "      <td>85</td>\n",
       "      <td>90</td>\n",
       "      <td>95</td>\n",
       "      <td>95</td>\n",
       "      <td>C#</td>\n",
       "    </tr>\n",
       "    <tr>\n",
       "      <th>9번</th>\n",
       "      <td>채치수</td>\n",
       "      <td>북산고</td>\n",
       "      <td>197</td>\n",
       "      <td>90</td>\n",
       "      <td>85</td>\n",
       "      <td>100</td>\n",
       "      <td>95</td>\n",
       "      <td>85</td>\n",
       "      <td>Python</td>\n",
       "    </tr>\n",
       "  </tbody>\n",
       "</table>\n",
       "</div>"
      ],
      "text/plain": [
       "       이름   학교    키   국어   영어   수학  과학  사회        SW특기\n",
       "지원번호                                                  \n",
       "1번    채치수  북산고  197   90   85  100  95  85      Python\n",
       "2번    정대만  북산고  184   40   35   50  55  25        Java\n",
       "3번    송태섭  북산고  168   80   75   70  80  75  Javascript\n",
       "4번    서태웅  북산고  187   40   60   70  75  80         NaN\n",
       "5번    강백호  북산고  188   15   20   10  35  10         NaN\n",
       "6번    변덕규  능남고  202   80  100   95  85  80           C\n",
       "7번    황태산  능남고  188   55   65   45  40  35      PYTHON\n",
       "8번    윤대협  능남고  190  100   85   90  95  95          C#\n",
       "9번    채치수  북산고  197   90   85  100  95  85      Python"
      ]
     },
     "execution_count": 36,
     "metadata": {},
     "output_type": "execute_result"
    }
   ],
   "source": [
    "df.loc['9번']=df.loc['1번']\n",
    "df"
   ]
  },
  {
   "cell_type": "code",
   "execution_count": 39,
   "id": "70a7dcd1-6a2d-4e0f-b8ee-7ad650f5cba0",
   "metadata": {},
   "outputs": [
    {
     "data": {
      "text/plain": [
       "지원번호\n",
       "1번    False\n",
       "2번    False\n",
       "3번    False\n",
       "4번    False\n",
       "5번    False\n",
       "6번    False\n",
       "7번    False\n",
       "8번    False\n",
       "9번     True\n",
       "dtype: bool"
      ]
     },
     "execution_count": 39,
     "metadata": {},
     "output_type": "execute_result"
    }
   ],
   "source": [
    "df.duplicated()   #나중값을 false로"
   ]
  },
  {
   "cell_type": "code",
   "execution_count": 43,
   "id": "d154d7ce-2313-437c-a649-fa565c5e3be9",
   "metadata": {},
   "outputs": [
    {
     "data": {
      "text/html": [
       "<div>\n",
       "<style scoped>\n",
       "    .dataframe tbody tr th:only-of-type {\n",
       "        vertical-align: middle;\n",
       "    }\n",
       "\n",
       "    .dataframe tbody tr th {\n",
       "        vertical-align: top;\n",
       "    }\n",
       "\n",
       "    .dataframe thead th {\n",
       "        text-align: right;\n",
       "    }\n",
       "</style>\n",
       "<table border=\"1\" class=\"dataframe\">\n",
       "  <thead>\n",
       "    <tr style=\"text-align: right;\">\n",
       "      <th></th>\n",
       "      <th>이름</th>\n",
       "      <th>학교</th>\n",
       "      <th>키</th>\n",
       "      <th>국어</th>\n",
       "      <th>영어</th>\n",
       "      <th>수학</th>\n",
       "      <th>과학</th>\n",
       "      <th>사회</th>\n",
       "      <th>SW특기</th>\n",
       "    </tr>\n",
       "    <tr>\n",
       "      <th>지원번호</th>\n",
       "      <th></th>\n",
       "      <th></th>\n",
       "      <th></th>\n",
       "      <th></th>\n",
       "      <th></th>\n",
       "      <th></th>\n",
       "      <th></th>\n",
       "      <th></th>\n",
       "      <th></th>\n",
       "    </tr>\n",
       "  </thead>\n",
       "  <tbody>\n",
       "    <tr>\n",
       "      <th>1번</th>\n",
       "      <td>채치수</td>\n",
       "      <td>북산고</td>\n",
       "      <td>197</td>\n",
       "      <td>90</td>\n",
       "      <td>85</td>\n",
       "      <td>100</td>\n",
       "      <td>95</td>\n",
       "      <td>85</td>\n",
       "      <td>Python</td>\n",
       "    </tr>\n",
       "    <tr>\n",
       "      <th>2번</th>\n",
       "      <td>정대만</td>\n",
       "      <td>북산고</td>\n",
       "      <td>184</td>\n",
       "      <td>40</td>\n",
       "      <td>35</td>\n",
       "      <td>50</td>\n",
       "      <td>55</td>\n",
       "      <td>25</td>\n",
       "      <td>Java</td>\n",
       "    </tr>\n",
       "    <tr>\n",
       "      <th>3번</th>\n",
       "      <td>송태섭</td>\n",
       "      <td>북산고</td>\n",
       "      <td>168</td>\n",
       "      <td>80</td>\n",
       "      <td>75</td>\n",
       "      <td>70</td>\n",
       "      <td>80</td>\n",
       "      <td>75</td>\n",
       "      <td>Javascript</td>\n",
       "    </tr>\n",
       "    <tr>\n",
       "      <th>4번</th>\n",
       "      <td>서태웅</td>\n",
       "      <td>북산고</td>\n",
       "      <td>187</td>\n",
       "      <td>40</td>\n",
       "      <td>60</td>\n",
       "      <td>70</td>\n",
       "      <td>75</td>\n",
       "      <td>80</td>\n",
       "      <td>NaN</td>\n",
       "    </tr>\n",
       "    <tr>\n",
       "      <th>5번</th>\n",
       "      <td>강백호</td>\n",
       "      <td>북산고</td>\n",
       "      <td>188</td>\n",
       "      <td>15</td>\n",
       "      <td>20</td>\n",
       "      <td>10</td>\n",
       "      <td>35</td>\n",
       "      <td>10</td>\n",
       "      <td>NaN</td>\n",
       "    </tr>\n",
       "    <tr>\n",
       "      <th>6번</th>\n",
       "      <td>변덕규</td>\n",
       "      <td>능남고</td>\n",
       "      <td>202</td>\n",
       "      <td>80</td>\n",
       "      <td>100</td>\n",
       "      <td>95</td>\n",
       "      <td>85</td>\n",
       "      <td>80</td>\n",
       "      <td>C</td>\n",
       "    </tr>\n",
       "    <tr>\n",
       "      <th>7번</th>\n",
       "      <td>황태산</td>\n",
       "      <td>능남고</td>\n",
       "      <td>188</td>\n",
       "      <td>55</td>\n",
       "      <td>65</td>\n",
       "      <td>45</td>\n",
       "      <td>40</td>\n",
       "      <td>35</td>\n",
       "      <td>PYTHON</td>\n",
       "    </tr>\n",
       "    <tr>\n",
       "      <th>8번</th>\n",
       "      <td>윤대협</td>\n",
       "      <td>능남고</td>\n",
       "      <td>190</td>\n",
       "      <td>100</td>\n",
       "      <td>85</td>\n",
       "      <td>90</td>\n",
       "      <td>95</td>\n",
       "      <td>95</td>\n",
       "      <td>C#</td>\n",
       "    </tr>\n",
       "  </tbody>\n",
       "</table>\n",
       "</div>"
      ],
      "text/plain": [
       "       이름   학교    키   국어   영어   수학  과학  사회        SW특기\n",
       "지원번호                                                  \n",
       "1번    채치수  북산고  197   90   85  100  95  85      Python\n",
       "2번    정대만  북산고  184   40   35   50  55  25        Java\n",
       "3번    송태섭  북산고  168   80   75   70  80  75  Javascript\n",
       "4번    서태웅  북산고  187   40   60   70  75  80         NaN\n",
       "5번    강백호  북산고  188   15   20   10  35  10         NaN\n",
       "6번    변덕규  능남고  202   80  100   95  85  80           C\n",
       "7번    황태산  능남고  188   55   65   45  40  35      PYTHON\n",
       "8번    윤대협  능남고  190  100   85   90  95  95          C#"
      ]
     },
     "execution_count": 43,
     "metadata": {},
     "output_type": "execute_result"
    }
   ],
   "source": [
    "df.drop_duplicates(inplace=True)    #중복값 제거-> keep='last'옵션 사용하면 마지막껄 남겨둠\n",
    "df"
   ]
  },
  {
   "cell_type": "markdown",
   "id": "f821774b-4e33-4eed-8dfd-f477fe73dac3",
   "metadata": {},
   "source": [
    "# 5. 데이터타입 변환\n",
    "### 종류: int64(정수), float64(실수), object(문자형), string(문자형), bool, datetime64, category(R의 팩터)\n",
    "- df['column'].astype(바꿀려는타입)\n",
    "- pd.to_datetime(df['column'])"
   ]
  },
  {
   "cell_type": "code",
   "execution_count": 55,
   "id": "d2bddc05-848e-4eee-a6a0-2c5ace734453",
   "metadata": {},
   "outputs": [
    {
     "name": "stdout",
     "output_type": "stream",
     "text": [
      "<class 'pandas.core.series.Series'>\n",
      "RangeIndex: 4 entries, 0 to 3\n",
      "Series name: None\n",
      "Non-Null Count  Dtype \n",
      "--------------  ----- \n",
      "4 non-null      object\n",
      "dtypes: object(1)\n",
      "memory usage: 164.0+ bytes\n"
     ]
    }
   ],
   "source": [
    "# dtype=''로 데이터 타입지정\n",
    "temp=pd.Series([-20,-10,10,20],dtype='object')  #숫자를 넣었음에도 object\n",
    "temp.info()"
   ]
  },
  {
   "cell_type": "code",
   "execution_count": 56,
   "id": "d7dd6ee8-a103-479c-944e-c4c11ec244d6",
   "metadata": {
    "scrolled": true
   },
   "outputs": [
    {
     "data": {
      "text/html": [
       "<div>\n",
       "<style scoped>\n",
       "    .dataframe tbody tr th:only-of-type {\n",
       "        vertical-align: middle;\n",
       "    }\n",
       "\n",
       "    .dataframe tbody tr th {\n",
       "        vertical-align: top;\n",
       "    }\n",
       "\n",
       "    .dataframe thead th {\n",
       "        text-align: right;\n",
       "    }\n",
       "</style>\n",
       "<table border=\"1\" class=\"dataframe\">\n",
       "  <thead>\n",
       "    <tr style=\"text-align: right;\">\n",
       "      <th></th>\n",
       "      <th>이름</th>\n",
       "      <th>학교</th>\n",
       "      <th>키</th>\n",
       "      <th>국어</th>\n",
       "      <th>영어</th>\n",
       "      <th>수학</th>\n",
       "      <th>과학</th>\n",
       "      <th>사회</th>\n",
       "      <th>SW특기</th>\n",
       "      <th>current_time</th>\n",
       "    </tr>\n",
       "    <tr>\n",
       "      <th>지원번호</th>\n",
       "      <th></th>\n",
       "      <th></th>\n",
       "      <th></th>\n",
       "      <th></th>\n",
       "      <th></th>\n",
       "      <th></th>\n",
       "      <th></th>\n",
       "      <th></th>\n",
       "      <th></th>\n",
       "      <th></th>\n",
       "    </tr>\n",
       "  </thead>\n",
       "  <tbody>\n",
       "    <tr>\n",
       "      <th>1번</th>\n",
       "      <td>채치수</td>\n",
       "      <td>북산고</td>\n",
       "      <td>197</td>\n",
       "      <td>90</td>\n",
       "      <td>85</td>\n",
       "      <td>100</td>\n",
       "      <td>95</td>\n",
       "      <td>85</td>\n",
       "      <td>Python</td>\n",
       "      <td>2025-03-30 21:21:50.540597</td>\n",
       "    </tr>\n",
       "    <tr>\n",
       "      <th>2번</th>\n",
       "      <td>정대만</td>\n",
       "      <td>북산고</td>\n",
       "      <td>184</td>\n",
       "      <td>40</td>\n",
       "      <td>35</td>\n",
       "      <td>50</td>\n",
       "      <td>55</td>\n",
       "      <td>25</td>\n",
       "      <td>Java</td>\n",
       "      <td>2025-03-30 21:21:50.540597</td>\n",
       "    </tr>\n",
       "    <tr>\n",
       "      <th>3번</th>\n",
       "      <td>송태섭</td>\n",
       "      <td>북산고</td>\n",
       "      <td>168</td>\n",
       "      <td>80</td>\n",
       "      <td>75</td>\n",
       "      <td>70</td>\n",
       "      <td>80</td>\n",
       "      <td>75</td>\n",
       "      <td>Javascript</td>\n",
       "      <td>2025-03-30 21:21:50.540597</td>\n",
       "    </tr>\n",
       "    <tr>\n",
       "      <th>4번</th>\n",
       "      <td>서태웅</td>\n",
       "      <td>북산고</td>\n",
       "      <td>187</td>\n",
       "      <td>40</td>\n",
       "      <td>60</td>\n",
       "      <td>70</td>\n",
       "      <td>75</td>\n",
       "      <td>80</td>\n",
       "      <td>NaN</td>\n",
       "      <td>2025-03-30 21:21:50.540597</td>\n",
       "    </tr>\n",
       "    <tr>\n",
       "      <th>5번</th>\n",
       "      <td>강백호</td>\n",
       "      <td>북산고</td>\n",
       "      <td>188</td>\n",
       "      <td>15</td>\n",
       "      <td>20</td>\n",
       "      <td>10</td>\n",
       "      <td>35</td>\n",
       "      <td>10</td>\n",
       "      <td>NaN</td>\n",
       "      <td>2025-03-30 21:21:50.540597</td>\n",
       "    </tr>\n",
       "    <tr>\n",
       "      <th>6번</th>\n",
       "      <td>변덕규</td>\n",
       "      <td>능남고</td>\n",
       "      <td>202</td>\n",
       "      <td>80</td>\n",
       "      <td>100</td>\n",
       "      <td>95</td>\n",
       "      <td>85</td>\n",
       "      <td>80</td>\n",
       "      <td>C</td>\n",
       "      <td>2025-03-30 21:21:50.540597</td>\n",
       "    </tr>\n",
       "    <tr>\n",
       "      <th>7번</th>\n",
       "      <td>황태산</td>\n",
       "      <td>능남고</td>\n",
       "      <td>188</td>\n",
       "      <td>55</td>\n",
       "      <td>65</td>\n",
       "      <td>45</td>\n",
       "      <td>40</td>\n",
       "      <td>35</td>\n",
       "      <td>PYTHON</td>\n",
       "      <td>2025-03-30 21:21:50.540597</td>\n",
       "    </tr>\n",
       "    <tr>\n",
       "      <th>8번</th>\n",
       "      <td>윤대협</td>\n",
       "      <td>능남고</td>\n",
       "      <td>190</td>\n",
       "      <td>100</td>\n",
       "      <td>85</td>\n",
       "      <td>90</td>\n",
       "      <td>95</td>\n",
       "      <td>95</td>\n",
       "      <td>C#</td>\n",
       "      <td>2025-03-30 21:21:50.540597</td>\n",
       "    </tr>\n",
       "  </tbody>\n",
       "</table>\n",
       "</div>"
      ],
      "text/plain": [
       "       이름   학교    키   국어   영어   수학  과학  사회        SW특기  \\\n",
       "지원번호                                                     \n",
       "1번    채치수  북산고  197   90   85  100  95  85      Python   \n",
       "2번    정대만  북산고  184   40   35   50  55  25        Java   \n",
       "3번    송태섭  북산고  168   80   75   70  80  75  Javascript   \n",
       "4번    서태웅  북산고  187   40   60   70  75  80         NaN   \n",
       "5번    강백호  북산고  188   15   20   10  35  10         NaN   \n",
       "6번    변덕규  능남고  202   80  100   95  85  80           C   \n",
       "7번    황태산  능남고  188   55   65   45  40  35      PYTHON   \n",
       "8번    윤대협  능남고  190  100   85   90  95  95          C#   \n",
       "\n",
       "                   current_time  \n",
       "지원번호                             \n",
       "1번   2025-03-30 21:21:50.540597  \n",
       "2번   2025-03-30 21:21:50.540597  \n",
       "3번   2025-03-30 21:21:50.540597  \n",
       "4번   2025-03-30 21:21:50.540597  \n",
       "5번   2025-03-30 21:21:50.540597  \n",
       "6번   2025-03-30 21:21:50.540597  \n",
       "7번   2025-03-30 21:21:50.540597  \n",
       "8번   2025-03-30 21:21:50.540597  "
      ]
     },
     "execution_count": 56,
     "metadata": {},
     "output_type": "execute_result"
    }
   ],
   "source": [
    "df['current_time'] = pd.Timestamp.now()   #pd의 현재시간을 나타내는 함수\n",
    "df"
   ]
  },
  {
   "cell_type": "code",
   "execution_count": 57,
   "id": "dae7f8f0-792b-4411-8789-943ad4048f41",
   "metadata": {},
   "outputs": [
    {
     "name": "stdout",
     "output_type": "stream",
     "text": [
      "<class 'pandas.core.series.Series'>\n",
      "Index: 8 entries, 1번 to 8번\n",
      "Series name: current_time\n",
      "Non-Null Count  Dtype         \n",
      "--------------  -----         \n",
      "8 non-null      datetime64[us]\n",
      "dtypes: datetime64[us](1)\n",
      "memory usage: 428.0+ bytes\n"
     ]
    }
   ],
   "source": [
    "df['current_time'].info()  #시간은 datetime형태"
   ]
  },
  {
   "cell_type": "code",
   "execution_count": 58,
   "id": "70bcf031-3378-4b14-9650-747d82177da4",
   "metadata": {},
   "outputs": [
    {
     "name": "stdout",
     "output_type": "stream",
     "text": [
      "<class 'pandas.core.series.Series'>\n",
      "Index: 8 entries, 1번 to 8번\n",
      "Series name: current_time\n",
      "Non-Null Count  Dtype \n",
      "--------------  ----- \n",
      "8 non-null      object\n",
      "dtypes: object(1)\n",
      "memory usage: 428.0+ bytes\n"
     ]
    }
   ],
   "source": [
    "df['current_time']=df['current_time'].astype(object)   #datetime->object\n",
    "df['current_time'].info()"
   ]
  },
  {
   "cell_type": "code",
   "execution_count": 59,
   "id": "840b1c0c-cf67-4bd3-be1c-fd90947ca40a",
   "metadata": {},
   "outputs": [
    {
     "name": "stdout",
     "output_type": "stream",
     "text": [
      "<class 'pandas.core.series.Series'>\n",
      "Index: 8 entries, 1번 to 8번\n",
      "Series name: current_time\n",
      "Non-Null Count  Dtype         \n",
      "--------------  -----         \n",
      "8 non-null      datetime64[ns]\n",
      "dtypes: datetime64[ns](1)\n",
      "memory usage: 428.0+ bytes\n"
     ]
    }
   ],
   "source": [
    "# pd.to_datetime으로 다시 datetime64형태로\n",
    "df['current_time'] = pd.to_datetime(df['current_time'])   \n",
    "df['current_time'].info()    "
   ]
  },
  {
   "cell_type": "markdown",
   "id": "d6d872d6-1240-4abf-8b8a-d14e38f4aa53",
   "metadata": {},
   "source": [
    "# 6. 추가 처리"
   ]
  },
  {
   "cell_type": "markdown",
   "id": "1a622455-8c5e-469f-8231-c45cd8d70c6f",
   "metadata": {},
   "source": [
    "### 텍스트 통일\n",
    "- 같은 의미를 지니는 텍스트나 다른 카테고리 값을 동일하게 "
   ]
  },
  {
   "cell_type": "code",
   "execution_count": null,
   "id": "c7380830-7aa9-4834-a673-18a7f5093835",
   "metadata": {},
   "outputs": [],
   "source": [
    "# \n",
    "ext_dic = {'DOCX': 'DOC',\n",
    "           'XLSX': 'XLS',\n",
    "           'PPTX': 'PPT',\n",
    "           'PPSX': 'PPT',\n",
    "           'PPS': 'PPT',\n",
    "           'ODT': 'TXT',\n",
    "           'PNG': 'JPG'}\n",
    "\n",
    "# 해당 컬럼에 replace 함수와 dict 적용\n",
    "df['확장자'] = df['확장자'].replace(ext_dic)"
   ]
  },
  {
   "cell_type": "markdown",
   "id": "1de8181b-e48c-4f22-be40-c2d3748e0907",
   "metadata": {},
   "source": [
    "### 복잡한 고유식별자의 간단화\n",
    "- 새로운 0부터 1씩 증가하는 값 부여"
   ]
  },
  {
   "cell_type": "code",
   "execution_count": null,
   "id": "2f8bf92c-db84-4612-8cb1-ccef3099c785",
   "metadata": {},
   "outputs": [],
   "source": [
    "newid = [] # empty list\n",
    "num = 0 # default setting\n",
    "\n",
    "# loop\n",
    "for i in range(len(df)-1):\n",
    "    if df.ioc[i, 'id'] == df.ioc[i+1, 'id']:   #현재행과 다음행을 비교해 같으면 숫자 그대로 해서 newid에 넣음\n",
    "        newid.append(num)\n",
    "    else:\n",
    "        newid.append(num)     #다르면 숫자넣고 1증가\n",
    "        num += 1\n",
    "df['newid']=newid    #새로운 간단한 고유식별자 부여"
   ]
  },
  {
   "cell_type": "markdown",
   "id": "0f9da546-a619-4bb0-83b7-c7b0a3183fdc",
   "metadata": {},
   "source": [
    "### 대소문자 처리\n",
    "- df가 아닌 개별컬럼에 적용시켜야함\n",
    "- dtype이 object인 컬럼에만 가능"
   ]
  },
  {
   "cell_type": "code",
   "execution_count": 67,
   "id": "21c32a77-4557-43ff-a0b9-864b499a85ab",
   "metadata": {},
   "outputs": [
    {
     "data": {
      "text/html": [
       "<div>\n",
       "<style scoped>\n",
       "    .dataframe tbody tr th:only-of-type {\n",
       "        vertical-align: middle;\n",
       "    }\n",
       "\n",
       "    .dataframe tbody tr th {\n",
       "        vertical-align: top;\n",
       "    }\n",
       "\n",
       "    .dataframe thead th {\n",
       "        text-align: right;\n",
       "    }\n",
       "</style>\n",
       "<table border=\"1\" class=\"dataframe\">\n",
       "  <thead>\n",
       "    <tr style=\"text-align: right;\">\n",
       "      <th></th>\n",
       "      <th>이름</th>\n",
       "      <th>학교</th>\n",
       "      <th>키</th>\n",
       "      <th>국어</th>\n",
       "      <th>영어</th>\n",
       "      <th>수학</th>\n",
       "      <th>과학</th>\n",
       "      <th>사회</th>\n",
       "      <th>SW특기</th>\n",
       "      <th>current_time</th>\n",
       "    </tr>\n",
       "    <tr>\n",
       "      <th>지원번호</th>\n",
       "      <th></th>\n",
       "      <th></th>\n",
       "      <th></th>\n",
       "      <th></th>\n",
       "      <th></th>\n",
       "      <th></th>\n",
       "      <th></th>\n",
       "      <th></th>\n",
       "      <th></th>\n",
       "      <th></th>\n",
       "    </tr>\n",
       "  </thead>\n",
       "  <tbody>\n",
       "    <tr>\n",
       "      <th>1번</th>\n",
       "      <td>채치수</td>\n",
       "      <td>북산고</td>\n",
       "      <td>197</td>\n",
       "      <td>90</td>\n",
       "      <td>85</td>\n",
       "      <td>100</td>\n",
       "      <td>95</td>\n",
       "      <td>85</td>\n",
       "      <td>python</td>\n",
       "      <td>2025-03-30 21:21:50.540597</td>\n",
       "    </tr>\n",
       "    <tr>\n",
       "      <th>2번</th>\n",
       "      <td>정대만</td>\n",
       "      <td>북산고</td>\n",
       "      <td>184</td>\n",
       "      <td>40</td>\n",
       "      <td>35</td>\n",
       "      <td>50</td>\n",
       "      <td>55</td>\n",
       "      <td>25</td>\n",
       "      <td>java</td>\n",
       "      <td>2025-03-30 21:21:50.540597</td>\n",
       "    </tr>\n",
       "    <tr>\n",
       "      <th>3번</th>\n",
       "      <td>송태섭</td>\n",
       "      <td>북산고</td>\n",
       "      <td>168</td>\n",
       "      <td>80</td>\n",
       "      <td>75</td>\n",
       "      <td>70</td>\n",
       "      <td>80</td>\n",
       "      <td>75</td>\n",
       "      <td>javascript</td>\n",
       "      <td>2025-03-30 21:21:50.540597</td>\n",
       "    </tr>\n",
       "    <tr>\n",
       "      <th>4번</th>\n",
       "      <td>서태웅</td>\n",
       "      <td>북산고</td>\n",
       "      <td>187</td>\n",
       "      <td>40</td>\n",
       "      <td>60</td>\n",
       "      <td>70</td>\n",
       "      <td>75</td>\n",
       "      <td>80</td>\n",
       "      <td>NaN</td>\n",
       "      <td>2025-03-30 21:21:50.540597</td>\n",
       "    </tr>\n",
       "    <tr>\n",
       "      <th>5번</th>\n",
       "      <td>강백호</td>\n",
       "      <td>북산고</td>\n",
       "      <td>188</td>\n",
       "      <td>15</td>\n",
       "      <td>20</td>\n",
       "      <td>10</td>\n",
       "      <td>35</td>\n",
       "      <td>10</td>\n",
       "      <td>NaN</td>\n",
       "      <td>2025-03-30 21:21:50.540597</td>\n",
       "    </tr>\n",
       "    <tr>\n",
       "      <th>6번</th>\n",
       "      <td>변덕규</td>\n",
       "      <td>능남고</td>\n",
       "      <td>202</td>\n",
       "      <td>80</td>\n",
       "      <td>100</td>\n",
       "      <td>95</td>\n",
       "      <td>85</td>\n",
       "      <td>80</td>\n",
       "      <td>c</td>\n",
       "      <td>2025-03-30 21:21:50.540597</td>\n",
       "    </tr>\n",
       "    <tr>\n",
       "      <th>7번</th>\n",
       "      <td>황태산</td>\n",
       "      <td>능남고</td>\n",
       "      <td>188</td>\n",
       "      <td>55</td>\n",
       "      <td>65</td>\n",
       "      <td>45</td>\n",
       "      <td>40</td>\n",
       "      <td>35</td>\n",
       "      <td>python</td>\n",
       "      <td>2025-03-30 21:21:50.540597</td>\n",
       "    </tr>\n",
       "    <tr>\n",
       "      <th>8번</th>\n",
       "      <td>윤대협</td>\n",
       "      <td>능남고</td>\n",
       "      <td>190</td>\n",
       "      <td>100</td>\n",
       "      <td>85</td>\n",
       "      <td>90</td>\n",
       "      <td>95</td>\n",
       "      <td>95</td>\n",
       "      <td>c#</td>\n",
       "      <td>2025-03-30 21:21:50.540597</td>\n",
       "    </tr>\n",
       "  </tbody>\n",
       "</table>\n",
       "</div>"
      ],
      "text/plain": [
       "       이름   학교    키   국어   영어   수학  과학  사회        SW특기  \\\n",
       "지원번호                                                     \n",
       "1번    채치수  북산고  197   90   85  100  95  85      python   \n",
       "2번    정대만  북산고  184   40   35   50  55  25        java   \n",
       "3번    송태섭  북산고  168   80   75   70  80  75  javascript   \n",
       "4번    서태웅  북산고  187   40   60   70  75  80         NaN   \n",
       "5번    강백호  북산고  188   15   20   10  35  10         NaN   \n",
       "6번    변덕규  능남고  202   80  100   95  85  80           c   \n",
       "7번    황태산  능남고  188   55   65   45  40  35      python   \n",
       "8번    윤대협  능남고  190  100   85   90  95  95          c#   \n",
       "\n",
       "                   current_time  \n",
       "지원번호                             \n",
       "1번   2025-03-30 21:21:50.540597  \n",
       "2번   2025-03-30 21:21:50.540597  \n",
       "3번   2025-03-30 21:21:50.540597  \n",
       "4번   2025-03-30 21:21:50.540597  \n",
       "5번   2025-03-30 21:21:50.540597  \n",
       "6번   2025-03-30 21:21:50.540597  \n",
       "7번   2025-03-30 21:21:50.540597  \n",
       "8번   2025-03-30 21:21:50.540597  "
      ]
     },
     "execution_count": 67,
     "metadata": {},
     "output_type": "execute_result"
    }
   ],
   "source": [
    "for i in df.columns:\n",
    "    if df[i].dtype=='object':\n",
    "        df[i]=df[i].str.lower()\n",
    "df"
   ]
  },
  {
   "cell_type": "markdown",
   "id": "f3e94d87-c4dd-4e45-a8c4-b2112862c3a9",
   "metadata": {},
   "source": [
    "# 7. 이상치(극단적인 값) 처리\n",
    "- z-score: 표준화 후 기준을 넘으면 제거(값중에 평균으로 빼고 표준편차로 나눴을때 -z~z값 밖에있는 애들 제거)\n",
    "- IQR: Q1-IQR*1.5 값과 Q3-IQR*1.5사이의 값만 가져옴"
   ]
  },
  {
   "cell_type": "code",
   "execution_count": 73,
   "id": "76e3c884-f9c6-40f0-8360-f3bbfa23d9cd",
   "metadata": {},
   "outputs": [
    {
     "data": {
      "text/plain": [
       "Index(['3번'], dtype='object', name='지원번호')"
      ]
     },
     "execution_count": 73,
     "metadata": {},
     "output_type": "execute_result"
    }
   ],
   "source": [
    "# z-score\n",
    "def outlier(df, col, z):   # z는 내가 지정할 값\n",
    "    return df[abs(df[col]-np.mean(df[col]))/np.std(df[col])>z].index     #값을 평균에서 빼고 표준편차로 나눈것중 z보다 큰애들만 True\n",
    "\n",
    "outlier(df,'키',2)    #2로 하면 표준에서 -2~2밖에 있는 애들만 가져옴->얘네들이 이상치임"
   ]
  },
  {
   "cell_type": "code",
   "execution_count": 78,
   "id": "cf32cd18-4f10-4671-be66-035e13e3ea6b",
   "metadata": {},
   "outputs": [
    {
     "data": {
      "text/html": [
       "<div>\n",
       "<style scoped>\n",
       "    .dataframe tbody tr th:only-of-type {\n",
       "        vertical-align: middle;\n",
       "    }\n",
       "\n",
       "    .dataframe tbody tr th {\n",
       "        vertical-align: top;\n",
       "    }\n",
       "\n",
       "    .dataframe thead th {\n",
       "        text-align: right;\n",
       "    }\n",
       "</style>\n",
       "<table border=\"1\" class=\"dataframe\">\n",
       "  <thead>\n",
       "    <tr style=\"text-align: right;\">\n",
       "      <th></th>\n",
       "      <th>이름</th>\n",
       "      <th>학교</th>\n",
       "      <th>키</th>\n",
       "      <th>국어</th>\n",
       "      <th>영어</th>\n",
       "      <th>수학</th>\n",
       "      <th>과학</th>\n",
       "      <th>사회</th>\n",
       "      <th>SW특기</th>\n",
       "      <th>current_time</th>\n",
       "    </tr>\n",
       "    <tr>\n",
       "      <th>지원번호</th>\n",
       "      <th></th>\n",
       "      <th></th>\n",
       "      <th></th>\n",
       "      <th></th>\n",
       "      <th></th>\n",
       "      <th></th>\n",
       "      <th></th>\n",
       "      <th></th>\n",
       "      <th></th>\n",
       "      <th></th>\n",
       "    </tr>\n",
       "  </thead>\n",
       "  <tbody>\n",
       "    <tr>\n",
       "      <th>3번</th>\n",
       "      <td>송태섭</td>\n",
       "      <td>북산고</td>\n",
       "      <td>168</td>\n",
       "      <td>80</td>\n",
       "      <td>75</td>\n",
       "      <td>70</td>\n",
       "      <td>80</td>\n",
       "      <td>75</td>\n",
       "      <td>javascript</td>\n",
       "      <td>2025-03-30 21:21:50.540597</td>\n",
       "    </tr>\n",
       "  </tbody>\n",
       "</table>\n",
       "</div>"
      ],
      "text/plain": [
       "       이름   학교    키  국어  영어  수학  과학  사회        SW특기               current_time\n",
       "지원번호                                                                          \n",
       "3번    송태섭  북산고  168  80  75  70  80  75  javascript 2025-03-30 21:21:50.540597"
      ]
     },
     "execution_count": 78,
     "metadata": {},
     "output_type": "execute_result"
    }
   ],
   "source": [
    "df.loc[outlier(df,'키',2)]"
   ]
  },
  {
   "cell_type": "code",
   "execution_count": 80,
   "id": "fbcf3bc6-c431-4887-a65b-bec8581f4c4f",
   "metadata": {},
   "outputs": [
    {
     "data": {
      "text/html": [
       "<div>\n",
       "<style scoped>\n",
       "    .dataframe tbody tr th:only-of-type {\n",
       "        vertical-align: middle;\n",
       "    }\n",
       "\n",
       "    .dataframe tbody tr th {\n",
       "        vertical-align: top;\n",
       "    }\n",
       "\n",
       "    .dataframe thead th {\n",
       "        text-align: right;\n",
       "    }\n",
       "</style>\n",
       "<table border=\"1\" class=\"dataframe\">\n",
       "  <thead>\n",
       "    <tr style=\"text-align: right;\">\n",
       "      <th></th>\n",
       "      <th>이름</th>\n",
       "      <th>학교</th>\n",
       "      <th>키</th>\n",
       "      <th>국어</th>\n",
       "      <th>영어</th>\n",
       "      <th>수학</th>\n",
       "      <th>과학</th>\n",
       "      <th>사회</th>\n",
       "      <th>SW특기</th>\n",
       "      <th>current_time</th>\n",
       "    </tr>\n",
       "    <tr>\n",
       "      <th>지원번호</th>\n",
       "      <th></th>\n",
       "      <th></th>\n",
       "      <th></th>\n",
       "      <th></th>\n",
       "      <th></th>\n",
       "      <th></th>\n",
       "      <th></th>\n",
       "      <th></th>\n",
       "      <th></th>\n",
       "      <th></th>\n",
       "    </tr>\n",
       "  </thead>\n",
       "  <tbody>\n",
       "    <tr>\n",
       "      <th>1번</th>\n",
       "      <td>채치수</td>\n",
       "      <td>북산고</td>\n",
       "      <td>197</td>\n",
       "      <td>90</td>\n",
       "      <td>85</td>\n",
       "      <td>100</td>\n",
       "      <td>95</td>\n",
       "      <td>85</td>\n",
       "      <td>python</td>\n",
       "      <td>2025-03-30 21:21:50.540597</td>\n",
       "    </tr>\n",
       "    <tr>\n",
       "      <th>2번</th>\n",
       "      <td>정대만</td>\n",
       "      <td>북산고</td>\n",
       "      <td>184</td>\n",
       "      <td>40</td>\n",
       "      <td>35</td>\n",
       "      <td>50</td>\n",
       "      <td>55</td>\n",
       "      <td>25</td>\n",
       "      <td>java</td>\n",
       "      <td>2025-03-30 21:21:50.540597</td>\n",
       "    </tr>\n",
       "    <tr>\n",
       "      <th>4번</th>\n",
       "      <td>서태웅</td>\n",
       "      <td>북산고</td>\n",
       "      <td>187</td>\n",
       "      <td>40</td>\n",
       "      <td>60</td>\n",
       "      <td>70</td>\n",
       "      <td>75</td>\n",
       "      <td>80</td>\n",
       "      <td>NaN</td>\n",
       "      <td>2025-03-30 21:21:50.540597</td>\n",
       "    </tr>\n",
       "    <tr>\n",
       "      <th>5번</th>\n",
       "      <td>강백호</td>\n",
       "      <td>북산고</td>\n",
       "      <td>188</td>\n",
       "      <td>15</td>\n",
       "      <td>20</td>\n",
       "      <td>10</td>\n",
       "      <td>35</td>\n",
       "      <td>10</td>\n",
       "      <td>NaN</td>\n",
       "      <td>2025-03-30 21:21:50.540597</td>\n",
       "    </tr>\n",
       "    <tr>\n",
       "      <th>6번</th>\n",
       "      <td>변덕규</td>\n",
       "      <td>능남고</td>\n",
       "      <td>202</td>\n",
       "      <td>80</td>\n",
       "      <td>100</td>\n",
       "      <td>95</td>\n",
       "      <td>85</td>\n",
       "      <td>80</td>\n",
       "      <td>c</td>\n",
       "      <td>2025-03-30 21:21:50.540597</td>\n",
       "    </tr>\n",
       "    <tr>\n",
       "      <th>7번</th>\n",
       "      <td>황태산</td>\n",
       "      <td>능남고</td>\n",
       "      <td>188</td>\n",
       "      <td>55</td>\n",
       "      <td>65</td>\n",
       "      <td>45</td>\n",
       "      <td>40</td>\n",
       "      <td>35</td>\n",
       "      <td>python</td>\n",
       "      <td>2025-03-30 21:21:50.540597</td>\n",
       "    </tr>\n",
       "    <tr>\n",
       "      <th>8번</th>\n",
       "      <td>윤대협</td>\n",
       "      <td>능남고</td>\n",
       "      <td>190</td>\n",
       "      <td>100</td>\n",
       "      <td>85</td>\n",
       "      <td>90</td>\n",
       "      <td>95</td>\n",
       "      <td>95</td>\n",
       "      <td>c#</td>\n",
       "      <td>2025-03-30 21:21:50.540597</td>\n",
       "    </tr>\n",
       "  </tbody>\n",
       "</table>\n",
       "</div>"
      ],
      "text/plain": [
       "       이름   학교    키   국어   영어   수학  과학  사회    SW특기               current_time\n",
       "지원번호                                                                         \n",
       "1번    채치수  북산고  197   90   85  100  95  85  python 2025-03-30 21:21:50.540597\n",
       "2번    정대만  북산고  184   40   35   50  55  25    java 2025-03-30 21:21:50.540597\n",
       "4번    서태웅  북산고  187   40   60   70  75  80     NaN 2025-03-30 21:21:50.540597\n",
       "5번    강백호  북산고  188   15   20   10  35  10     NaN 2025-03-30 21:21:50.540597\n",
       "6번    변덕규  능남고  202   80  100   95  85  80       c 2025-03-30 21:21:50.540597\n",
       "7번    황태산  능남고  188   55   65   45  40  35  python 2025-03-30 21:21:50.540597\n",
       "8번    윤대협  능남고  190  100   85   90  95  95      c# 2025-03-30 21:21:50.540597"
      ]
     },
     "execution_count": 80,
     "metadata": {},
     "output_type": "execute_result"
    }
   ],
   "source": [
    "df.drop(index=outlier(df,'키',2))   #이런식으로 제거"
   ]
  },
  {
   "cell_type": "code",
   "execution_count": null,
   "id": "7e15874f-377a-4604-9542-a188a106ed9c",
   "metadata": {},
   "outputs": [],
   "source": [
    "df.loc[outlier(df,'키',2)]['키']=0   #지정하고 싶은 값을 넣어줄수도 있음"
   ]
  },
  {
   "cell_type": "markdown",
   "id": "1867b4cf-bad9-4630-9d05-2d2cb0f0e930",
   "metadata": {},
   "source": [
    "# 8. 범주형(수치가 아닌 도시이름과 같은) 데이터 처리\n",
    "- 문자를 숫자로\n",
    "- 라벨인코딩: 범주형 변수를 0, 1, 2 등의 정수로 변환\n",
    "- 원핫인코딩: 범주형 변수를 더미 변수로 변환-> 원하는 데이터만 1, 나머지는 0으로 채움"
   ]
  },
  {
   "cell_type": "markdown",
   "id": "b725620a-1b23-4084-a5a9-b838410c0134",
   "metadata": {},
   "source": [
    "### -라벨 인코딩"
   ]
  },
  {
   "cell_type": "code",
   "execution_count": 82,
   "id": "5bfef72f-2072-4536-8d6a-83b9ffe2d99d",
   "metadata": {},
   "outputs": [
    {
     "name": "stdout",
     "output_type": "stream",
     "text": [
      "학교\n",
      "북산고    5\n",
      "능남고    3\n",
      "Name: count, dtype: int64\n"
     ]
    },
    {
     "data": {
      "text/plain": [
       "array([1, 1, 1, 1, 1, 0, 0, 0])"
      ]
     },
     "execution_count": 82,
     "metadata": {},
     "output_type": "execute_result"
    }
   ],
   "source": [
    "# 라벨인코딩\n",
    "from sklearn.preprocessing import LabelEncoder\n",
    "\n",
    "le = LabelEncoder() # 객체 생성\n",
    "\n",
    "# 라벨 인코딩 할 피쳐의 종류와 개수 알아보기\n",
    "print(df['학교'].value_counts())\n",
    "\n",
    "\n",
    "le.fit_transform(df['학교'])  # 학교에 해당하는 데이터를 숫자로 바꿔줌->북산고는 1, 능남고는 0"
   ]
  },
  {
   "cell_type": "code",
   "execution_count": 84,
   "id": "ec100814-aa1f-4124-a59d-419cfeb0f22a",
   "metadata": {},
   "outputs": [
    {
     "data": {
      "text/plain": [
       "array(['능남고', '북산고'], dtype=object)"
      ]
     },
     "execution_count": 84,
     "metadata": {},
     "output_type": "execute_result"
    }
   ],
   "source": [
    "le.classes_  #어떤값이 어떤 숫자인지->왼쪽부터 0,1,2,..."
   ]
  },
  {
   "cell_type": "markdown",
   "id": "ba2a6457-e183-4f72-9986-f2ea57233e7d",
   "metadata": {},
   "source": [
    "### -one-hot encoding"
   ]
  },
  {
   "cell_type": "code",
   "execution_count": 98,
   "id": "ab12a194-03d2-4e35-97d3-ace7a151e20f",
   "metadata": {},
   "outputs": [
    {
     "data": {
      "text/html": [
       "<div>\n",
       "<style scoped>\n",
       "    .dataframe tbody tr th:only-of-type {\n",
       "        vertical-align: middle;\n",
       "    }\n",
       "\n",
       "    .dataframe tbody tr th {\n",
       "        vertical-align: top;\n",
       "    }\n",
       "\n",
       "    .dataframe thead th {\n",
       "        text-align: right;\n",
       "    }\n",
       "</style>\n",
       "<table border=\"1\" class=\"dataframe\">\n",
       "  <thead>\n",
       "    <tr style=\"text-align: right;\">\n",
       "      <th></th>\n",
       "      <th>능남고</th>\n",
       "      <th>북산고</th>\n",
       "    </tr>\n",
       "    <tr>\n",
       "      <th>지원번호</th>\n",
       "      <th></th>\n",
       "      <th></th>\n",
       "    </tr>\n",
       "  </thead>\n",
       "  <tbody>\n",
       "    <tr>\n",
       "      <th>1번</th>\n",
       "      <td>0</td>\n",
       "      <td>1</td>\n",
       "    </tr>\n",
       "    <tr>\n",
       "      <th>2번</th>\n",
       "      <td>0</td>\n",
       "      <td>1</td>\n",
       "    </tr>\n",
       "    <tr>\n",
       "      <th>3번</th>\n",
       "      <td>0</td>\n",
       "      <td>1</td>\n",
       "    </tr>\n",
       "    <tr>\n",
       "      <th>4번</th>\n",
       "      <td>0</td>\n",
       "      <td>1</td>\n",
       "    </tr>\n",
       "    <tr>\n",
       "      <th>5번</th>\n",
       "      <td>0</td>\n",
       "      <td>1</td>\n",
       "    </tr>\n",
       "    <tr>\n",
       "      <th>6번</th>\n",
       "      <td>1</td>\n",
       "      <td>0</td>\n",
       "    </tr>\n",
       "    <tr>\n",
       "      <th>7번</th>\n",
       "      <td>1</td>\n",
       "      <td>0</td>\n",
       "    </tr>\n",
       "    <tr>\n",
       "      <th>8번</th>\n",
       "      <td>1</td>\n",
       "      <td>0</td>\n",
       "    </tr>\n",
       "  </tbody>\n",
       "</table>\n",
       "</div>"
      ],
      "text/plain": [
       "      능남고  북산고\n",
       "지원번호          \n",
       "1번      0    1\n",
       "2번      0    1\n",
       "3번      0    1\n",
       "4번      0    1\n",
       "5번      0    1\n",
       "6번      1    0\n",
       "7번      1    0\n",
       "8번      1    0"
      ]
     },
     "execution_count": 98,
     "metadata": {},
     "output_type": "execute_result"
    }
   ],
   "source": [
    "# pd의 get_dummies함수 사용\n",
    "ohe=pd.get_dummies(df['학교'],dtype=int)   #범주형 고유개수에 따라 열 개수도 그만큼 늘어남\n",
    "ohe"
   ]
  },
  {
   "cell_type": "code",
   "execution_count": 99,
   "id": "a4662425-8ab3-4e5b-80a4-25d8287939a2",
   "metadata": {},
   "outputs": [
    {
     "data": {
      "text/html": [
       "<div>\n",
       "<style scoped>\n",
       "    .dataframe tbody tr th:only-of-type {\n",
       "        vertical-align: middle;\n",
       "    }\n",
       "\n",
       "    .dataframe tbody tr th {\n",
       "        vertical-align: top;\n",
       "    }\n",
       "\n",
       "    .dataframe thead th {\n",
       "        text-align: right;\n",
       "    }\n",
       "</style>\n",
       "<table border=\"1\" class=\"dataframe\">\n",
       "  <thead>\n",
       "    <tr style=\"text-align: right;\">\n",
       "      <th></th>\n",
       "      <th>이름</th>\n",
       "      <th>학교</th>\n",
       "      <th>키</th>\n",
       "      <th>국어</th>\n",
       "      <th>영어</th>\n",
       "      <th>수학</th>\n",
       "      <th>과학</th>\n",
       "      <th>사회</th>\n",
       "      <th>SW특기</th>\n",
       "      <th>current_time</th>\n",
       "      <th>le_value</th>\n",
       "      <th>능남고</th>\n",
       "      <th>북산고</th>\n",
       "    </tr>\n",
       "    <tr>\n",
       "      <th>지원번호</th>\n",
       "      <th></th>\n",
       "      <th></th>\n",
       "      <th></th>\n",
       "      <th></th>\n",
       "      <th></th>\n",
       "      <th></th>\n",
       "      <th></th>\n",
       "      <th></th>\n",
       "      <th></th>\n",
       "      <th></th>\n",
       "      <th></th>\n",
       "      <th></th>\n",
       "      <th></th>\n",
       "    </tr>\n",
       "  </thead>\n",
       "  <tbody>\n",
       "    <tr>\n",
       "      <th>1번</th>\n",
       "      <td>채치수</td>\n",
       "      <td>북산고</td>\n",
       "      <td>197</td>\n",
       "      <td>90</td>\n",
       "      <td>85</td>\n",
       "      <td>100</td>\n",
       "      <td>95</td>\n",
       "      <td>85</td>\n",
       "      <td>python</td>\n",
       "      <td>2025-03-30 21:21:50.540597</td>\n",
       "      <td>1</td>\n",
       "      <td>0</td>\n",
       "      <td>1</td>\n",
       "    </tr>\n",
       "    <tr>\n",
       "      <th>2번</th>\n",
       "      <td>정대만</td>\n",
       "      <td>북산고</td>\n",
       "      <td>184</td>\n",
       "      <td>40</td>\n",
       "      <td>35</td>\n",
       "      <td>50</td>\n",
       "      <td>55</td>\n",
       "      <td>25</td>\n",
       "      <td>java</td>\n",
       "      <td>2025-03-30 21:21:50.540597</td>\n",
       "      <td>1</td>\n",
       "      <td>0</td>\n",
       "      <td>1</td>\n",
       "    </tr>\n",
       "    <tr>\n",
       "      <th>3번</th>\n",
       "      <td>송태섭</td>\n",
       "      <td>북산고</td>\n",
       "      <td>168</td>\n",
       "      <td>80</td>\n",
       "      <td>75</td>\n",
       "      <td>70</td>\n",
       "      <td>80</td>\n",
       "      <td>75</td>\n",
       "      <td>javascript</td>\n",
       "      <td>2025-03-30 21:21:50.540597</td>\n",
       "      <td>1</td>\n",
       "      <td>0</td>\n",
       "      <td>1</td>\n",
       "    </tr>\n",
       "    <tr>\n",
       "      <th>4번</th>\n",
       "      <td>서태웅</td>\n",
       "      <td>북산고</td>\n",
       "      <td>187</td>\n",
       "      <td>40</td>\n",
       "      <td>60</td>\n",
       "      <td>70</td>\n",
       "      <td>75</td>\n",
       "      <td>80</td>\n",
       "      <td>NaN</td>\n",
       "      <td>2025-03-30 21:21:50.540597</td>\n",
       "      <td>1</td>\n",
       "      <td>0</td>\n",
       "      <td>1</td>\n",
       "    </tr>\n",
       "    <tr>\n",
       "      <th>5번</th>\n",
       "      <td>강백호</td>\n",
       "      <td>북산고</td>\n",
       "      <td>188</td>\n",
       "      <td>15</td>\n",
       "      <td>20</td>\n",
       "      <td>10</td>\n",
       "      <td>35</td>\n",
       "      <td>10</td>\n",
       "      <td>NaN</td>\n",
       "      <td>2025-03-30 21:21:50.540597</td>\n",
       "      <td>1</td>\n",
       "      <td>0</td>\n",
       "      <td>1</td>\n",
       "    </tr>\n",
       "    <tr>\n",
       "      <th>6번</th>\n",
       "      <td>변덕규</td>\n",
       "      <td>능남고</td>\n",
       "      <td>202</td>\n",
       "      <td>80</td>\n",
       "      <td>100</td>\n",
       "      <td>95</td>\n",
       "      <td>85</td>\n",
       "      <td>80</td>\n",
       "      <td>c</td>\n",
       "      <td>2025-03-30 21:21:50.540597</td>\n",
       "      <td>0</td>\n",
       "      <td>1</td>\n",
       "      <td>0</td>\n",
       "    </tr>\n",
       "    <tr>\n",
       "      <th>7번</th>\n",
       "      <td>황태산</td>\n",
       "      <td>능남고</td>\n",
       "      <td>188</td>\n",
       "      <td>55</td>\n",
       "      <td>65</td>\n",
       "      <td>45</td>\n",
       "      <td>40</td>\n",
       "      <td>35</td>\n",
       "      <td>python</td>\n",
       "      <td>2025-03-30 21:21:50.540597</td>\n",
       "      <td>0</td>\n",
       "      <td>1</td>\n",
       "      <td>0</td>\n",
       "    </tr>\n",
       "    <tr>\n",
       "      <th>8번</th>\n",
       "      <td>윤대협</td>\n",
       "      <td>능남고</td>\n",
       "      <td>190</td>\n",
       "      <td>100</td>\n",
       "      <td>85</td>\n",
       "      <td>90</td>\n",
       "      <td>95</td>\n",
       "      <td>95</td>\n",
       "      <td>c#</td>\n",
       "      <td>2025-03-30 21:21:50.540597</td>\n",
       "      <td>0</td>\n",
       "      <td>1</td>\n",
       "      <td>0</td>\n",
       "    </tr>\n",
       "  </tbody>\n",
       "</table>\n",
       "</div>"
      ],
      "text/plain": [
       "       이름   학교    키   국어   영어   수학  과학  사회        SW특기  \\\n",
       "지원번호                                                     \n",
       "1번    채치수  북산고  197   90   85  100  95  85      python   \n",
       "2번    정대만  북산고  184   40   35   50  55  25        java   \n",
       "3번    송태섭  북산고  168   80   75   70  80  75  javascript   \n",
       "4번    서태웅  북산고  187   40   60   70  75  80         NaN   \n",
       "5번    강백호  북산고  188   15   20   10  35  10         NaN   \n",
       "6번    변덕규  능남고  202   80  100   95  85  80           c   \n",
       "7번    황태산  능남고  188   55   65   45  40  35      python   \n",
       "8번    윤대협  능남고  190  100   85   90  95  95          c#   \n",
       "\n",
       "                   current_time  le_value  능남고  북산고  \n",
       "지원번호                                                 \n",
       "1번   2025-03-30 21:21:50.540597         1    0    1  \n",
       "2번   2025-03-30 21:21:50.540597         1    0    1  \n",
       "3번   2025-03-30 21:21:50.540597         1    0    1  \n",
       "4번   2025-03-30 21:21:50.540597         1    0    1  \n",
       "5번   2025-03-30 21:21:50.540597         1    0    1  \n",
       "6번   2025-03-30 21:21:50.540597         0    1    0  \n",
       "7번   2025-03-30 21:21:50.540597         0    1    0  \n",
       "8번   2025-03-30 21:21:50.540597         0    1    0  "
      ]
     },
     "execution_count": 99,
     "metadata": {},
     "output_type": "execute_result"
    }
   ],
   "source": [
    "# 기존 데이터에 열로 합치기\n",
    "df=pd.concat([df,ohe],axis=1)\n",
    "df"
   ]
  },
  {
   "cell_type": "markdown",
   "id": "2cbe487a-63b7-4cfe-bbaf-15acfce94c05",
   "metadata": {},
   "source": [
    "# 9. 스케일링->데이터별 단위를 일정하게 맞춤\n",
    "- 표준화: 평균0, 표준편차 1로 변환\n",
    "- 정규화: 데이터를 0과 1사이 값으로 변환"
   ]
  },
  {
   "cell_type": "markdown",
   "id": "5bcb6150-ae1b-4330-ba00-d02a85ec01fe",
   "metadata": {},
   "source": [
    "### 표준화"
   ]
  },
  {
   "cell_type": "code",
   "execution_count": 106,
   "id": "a5090542-2d37-42e9-87b2-656e5ed2f081",
   "metadata": {},
   "outputs": [
    {
     "name": "stdout",
     "output_type": "stream",
     "text": [
      "[[ 0.96351791  0.99589321  0.76948903  1.18976215  1.1250879   0.81126854]\n",
      " [-0.42823018 -0.81482171 -1.21628912 -0.57284844 -0.67505274 -1.18570017]\n",
      " [-2.14115091  0.63375022  0.3723334   0.13219579  0.45003516  0.47844042]\n",
      " [-0.10705755 -0.81482171 -0.22340004  0.13219579  0.22501758  0.64485448]\n",
      " [ 0.         -1.72017917 -1.81202256 -1.98293692 -1.57512306 -1.68494235]\n",
      " [ 1.49880564  0.63375022  1.36522248  1.01350109  0.67505274  0.64485448]\n",
      " [ 0.         -0.27160724 -0.02482223 -0.7491095  -1.35010548 -0.85287205]\n",
      " [ 0.21411509  1.35803619  0.76948903  0.83724003  1.1250879   1.14409666]]\n"
     ]
    }
   ],
   "source": [
    "# 평균0, 표준편차 1로 변환\n",
    "from sklearn.preprocessing import StandardScaler\n",
    "\n",
    "scaler = StandardScaler()\n",
    "df_scaled = scaler.fit_transform(df[['키','국어','영어','수학','과학','사회']])\n",
    "print(df_scaled)"
   ]
  },
  {
   "cell_type": "code",
   "execution_count": null,
   "id": "58389205-a455-48dd-8df9-1318b452f31c",
   "metadata": {},
   "outputs": [],
   "source": [
    "# 이후\n",
    "df[['키','국어','영어','수학','과학','사회']]=df_scaled"
   ]
  },
  {
   "cell_type": "markdown",
   "id": "a62d5291-8ef0-47a8-9c83-c6e6c740551c",
   "metadata": {},
   "source": [
    "### 정규화"
   ]
  },
  {
   "cell_type": "code",
   "execution_count": 107,
   "id": "d2766325-b638-4b17-bb14-d4e1b8b679e1",
   "metadata": {},
   "outputs": [
    {
     "name": "stdout",
     "output_type": "stream",
     "text": [
      "[[0.85294118 0.88235294 0.8125     1.         1.         0.88235294]\n",
      " [0.47058824 0.29411765 0.1875     0.44444444 0.33333333 0.17647059]\n",
      " [0.         0.76470588 0.6875     0.66666667 0.75       0.76470588]\n",
      " [0.55882353 0.29411765 0.5        0.66666667 0.66666667 0.82352941]\n",
      " [0.58823529 0.         0.         0.         0.         0.        ]\n",
      " [1.         0.76470588 1.         0.94444444 0.83333333 0.82352941]\n",
      " [0.58823529 0.47058824 0.5625     0.38888889 0.08333333 0.29411765]\n",
      " [0.64705882 1.         0.8125     0.88888889 1.         1.        ]]\n"
     ]
    }
   ],
   "source": [
    "from sklearn.preprocessing import MinMaxScaler\n",
    "\n",
    "scaler = MinMaxScaler()\n",
    "df_normalized = scaler.fit_transform(df[['키','국어','영어','수학','과학','사회']])\n",
    "print(df_normalized)     #0~1값으로"
   ]
  },
  {
   "cell_type": "markdown",
   "id": "96ee405e-dafe-4303-9571-b168f6da2898",
   "metadata": {},
   "source": [
    "### 로그 변환등의 기법도 같이 사용하기도 함"
   ]
  },
  {
   "cell_type": "markdown",
   "id": "ce47b7da-7648-49bf-8f7f-96cb6b5a32b8",
   "metadata": {},
   "source": [
    "# 10. 그 외"
   ]
  },
  {
   "cell_type": "markdown",
   "id": "cb982d39-4cc2-4446-a2b5-4520d0e3c97b",
   "metadata": {},
   "source": [
    "## 1. 구간화(Binning): 수치형 데이터->범주형 데이터로"
   ]
  },
  {
   "cell_type": "code",
   "execution_count": 111,
   "id": "5d88ba5e-818c-4b05-a009-ece157ebba48",
   "metadata": {},
   "outputs": [
    {
     "data": {
      "text/plain": [
       "지원번호\n",
       "1번    (190, 200]\n",
       "2번    (180, 190]\n",
       "3번    (160, 170]\n",
       "4번    (180, 190]\n",
       "5번    (180, 190]\n",
       "6번    (200, 210]\n",
       "7번    (180, 190]\n",
       "8번    (180, 190]\n",
       "Name: 키, dtype: category\n",
       "Categories (6, interval[int64, right]): [(150, 160] < (160, 170] < (170, 180] < (180, 190] < (190, 200] < (200, 210]]"
      ]
     },
     "execution_count": 111,
     "metadata": {},
     "output_type": "execute_result"
    }
   ],
   "source": [
    "bins=[150,160,170,180,190,200,210]  #내가 정한 구간\n",
    "\n",
    "intervals=pd.cut(df['키'],bins=bins)   #키에 대한 구간화\n",
    "intervals     # (190,200]은 190초과 200이하를 의미"
   ]
  },
  {
   "cell_type": "code",
   "execution_count": 113,
   "id": "3cb5367d-cc34-47a5-b6f5-b3477fe774d5",
   "metadata": {},
   "outputs": [
    {
     "data": {
      "text/plain": [
       "키\n",
       "(150, 160]    0\n",
       "(160, 170]    1\n",
       "(170, 180]    0\n",
       "(180, 190]    5\n",
       "(190, 200]    1\n",
       "(200, 210]    1\n",
       "Name: count, dtype: int64"
      ]
     },
     "execution_count": 113,
     "metadata": {},
     "output_type": "execute_result"
    }
   ],
   "source": [
    "intervals.value_counts().sort_index()   #histogram처럼 볼 수 있음"
   ]
  },
  {
   "cell_type": "code",
   "execution_count": 114,
   "id": "a0280f7b-fcc4-4c38-b9b0-6fa48fb1bed1",
   "metadata": {},
   "outputs": [
    {
     "data": {
      "text/plain": [
       "지원번호\n",
       "1번      (195.2, 202.0]\n",
       "2번      (181.6, 188.4]\n",
       "3번    (167.966, 174.8]\n",
       "4번      (181.6, 188.4]\n",
       "5번      (181.6, 188.4]\n",
       "6번      (195.2, 202.0]\n",
       "7번      (181.6, 188.4]\n",
       "8번      (188.4, 195.2]\n",
       "Name: 키, dtype: category\n",
       "Categories (5, interval[float64, right]): [(167.966, 174.8] < (174.8, 181.6] < (181.6, 188.4] < (188.4, 195.2] < (195.2, 202.0]]"
      ]
     },
     "execution_count": 114,
     "metadata": {},
     "output_type": "execute_result"
    }
   ],
   "source": [
    "pd.cut(df['키'],bins=5)    #5개 구간으로 나눔"
   ]
  },
  {
   "cell_type": "markdown",
   "id": "ce99a53a-9450-41f9-89e5-45628de2fcf9",
   "metadata": {},
   "source": [
    "## 2. train set과 test set분리"
   ]
  },
  {
   "cell_type": "code",
   "execution_count": null,
   "id": "d976ec06-1876-45b0-afdf-92ee758e49bd",
   "metadata": {},
   "outputs": [],
   "source": [
    "from sklearn.model_selection import train_test_split\n",
    "\n",
    "X_train, X_test, y_train, y_test = train_test_split(df[feature], df[label], test_size = 0.2, random_state=10)"
   ]
  },
  {
   "cell_type": "markdown",
   "id": "1cc018be-86cd-4862-8d0f-b5e221ee7c43",
   "metadata": {},
   "source": [
    "## 3. 텍스트 데이터는 전처리"
   ]
  },
  {
   "cell_type": "markdown",
   "id": "2d276924-e60f-48d6-91f8-5b62c02601f2",
   "metadata": {},
   "source": [
    "## 4. 차원축소-PCA\n",
    "- 고차원 데이터를 저차원으로 변환-> 중요한 특징(정보)을 최대한 보존하면서, 데이터를 구성하는 차원의 수를 줄이는 방법"
   ]
  },
  {
   "cell_type": "markdown",
   "id": "047771c6-1c77-4969-9cda-c91f97f8e518",
   "metadata": {},
   "source": [
    "### 6개의 차원을 2차원으로"
   ]
  },
  {
   "cell_type": "code",
   "execution_count": 131,
   "id": "395bac6f-a1d0-45ae-b2c8-93e240c87d60",
   "metadata": {},
   "outputs": [
    {
     "data": {
      "text/plain": [
       "array([[ 5.86250243e+01, -4.32412870e-02],\n",
       "       [-5.43208951e+01, -1.30672528e+00],\n",
       "       [ 2.36494928e+01,  9.53427765e-01],\n",
       "       [ 9.28945937e-01, -2.85115438e+01],\n",
       "       [-1.05905915e+02, -2.81554769e+00],\n",
       "       [ 5.19162481e+01,  8.17162569e+00],\n",
       "       [-3.79144988e+01,  2.25015451e+01],\n",
       "       [ 6.30215980e+01,  1.05045953e+00]])"
      ]
     },
     "execution_count": 131,
     "metadata": {},
     "output_type": "execute_result"
    }
   ],
   "source": [
    "from sklearn.decomposition import PCA\n",
    "\n",
    "pca = PCA(n_components=2)   #두개의 주성분으로 차원 축소\n",
    "df_pca = pca.fit_transform(df[['키','수학','국어','영어','과학','사회']])   #수치형만 가능\n",
    "df_pca"
   ]
  },
  {
   "cell_type": "code",
   "execution_count": 132,
   "id": "3895884f-47e4-419c-a589-695bc37408c8",
   "metadata": {},
   "outputs": [
    {
     "data": {
      "image/png": "[encoded data removed]",
      "text/plain": [
       "<Figure size 640x480 with 1 Axes>"
      ]
     },
     "metadata": {},
     "output_type": "display_data"
    }
   ],
   "source": [
    "import matplotlib.pyplot as plt\n",
    "\n",
    "plt.scatter(df_pca[:, 0], df_pca[:, 1])\n",
    "plt.xlabel('Principal Component 1')\n",
    "plt.ylabel('Principal Component 2')\n",
    "plt.title('PCA Result')\n",
    "plt.show()"
   ]
  },
  {
   "cell_type": "markdown",
   "id": "8d725c6c-005c-4f9b-a608-5befc28069d6",
   "metadata": {},
   "source": [
    "### 6차원을 3차원으로"
   ]
  },
  {
   "cell_type": "code",
   "execution_count": 134,
   "id": "c37aa5b4-1efa-4acc-9eef-a3ecafef727e",
   "metadata": {},
   "outputs": [
    {
     "name": "stdout",
     "output_type": "stream",
     "text": [
      "[[ 5.86250243e+01 -4.32412870e-02  4.65382763e+00]\n",
      " [-5.43208951e+01 -1.30672528e+00 -1.01030029e+00]\n",
      " [ 2.36494928e+01  9.53427765e-01 -2.17794755e+01]\n",
      " [ 9.28945937e-01 -2.85115438e+01  6.60216822e+00]\n",
      " [-1.05905915e+02 -2.81554769e+00  1.40746141e-01]\n",
      " [ 5.19162481e+01  8.17162569e+00  1.79380040e+01]\n",
      " [-3.79144988e+01  2.25015451e+01  3.19671781e+00]\n",
      " [ 6.30215980e+01  1.05045953e+00 -9.74168802e+00]]\n"
     ]
    },
    {
     "data": {
      "image/png": "[encoded data removed]",
      "text/plain": [
       "<Figure size 640x480 with 1 Axes>"
      ]
     },
     "metadata": {},
     "output_type": "display_data"
    }
   ],
   "source": [
    "from mpl_toolkits.mplot3d import Axes3D\n",
    "\n",
    "pca = PCA(n_components=3)   #세개의 주성분으로 차원 축소\n",
    "df_pca = pca.fit_transform(df[['키','수학','국어','영어','과학','사회']])   #수치형만 가능\n",
    "print(df_pca)\n",
    "\n",
    "fig = plt.figure()\n",
    "ax = fig.add_subplot(111, projection='3d')\n",
    "\n",
    "# 3D 산점도 그리기\n",
    "ax.scatter(df_pca[:, 0], df_pca[:, 1], df_pca[:, 2])\n",
    "\n",
    "# 축 라벨 설정\n",
    "ax.set_xlabel('Principal Component 1')\n",
    "ax.set_ylabel('Principal Component 2')\n",
    "ax.set_zlabel('Principal Component 3')\n",
    "\n",
    "# 그래프 제목 설정\n",
    "ax.set_title('PCA - 3 Principal Components')\n",
    "\n",
    "# 그래프 표시\n",
    "plt.show()"
   ]
  },
  {
   "cell_type": "markdown",
   "id": "bd98bc79-dd26-4414-aae1-fa85bfef9138",
   "metadata": {},
   "source": [
    "## 이 축소된 차원으로 분석 진행"
   ]
  },
  {
   "cell_type": "markdown",
   "id": "668e0921-db29-456c-be4a-3e6c7c67beb2",
   "metadata": {},
   "source": [
    "## 5. 독립변수와 종속변수 나누기"
   ]
  },
  {
   "cell_type": "code",
   "execution_count": 120,
   "id": "6015801c-5839-4bd2-b4ca-85026ba49cb1",
   "metadata": {},
   "outputs": [],
   "source": [
    "x=df.iloc[:,:4]    #독립변수들\n",
    "y=df.iloc[:,4]     #종속변수"
   ]
  }
 ],
 "metadata": {
  "kernelspec": {
   "display_name": "Python 3 (ipykernel)",
   "language": "python",
   "name": "python3"
  },
  "language_info": {
   "codemirror_mode": {
    "name": "ipython",
    "version": 3
   },
   "file_extension": ".py",
   "mimetype": "text/x-python",
   "name": "python",
   "nbconvert_exporter": "python",
   "pygments_lexer": "ipython3",
   "version": "3.12.3"
  }
 },
 "nbformat": 4,
 "nbformat_minor": 5
}
